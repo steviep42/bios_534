{
 "cells": [
  {
   "cell_type": "markdown",
   "id": "abb9d7a0-d8d7-48f2-ae70-06bc58360433",
   "metadata": {},
   "source": [
    "# Welcome to BIOS 534\n",
    "\n",
    "## Assignment 0 \n",
    "I (your name here) certify that this submission is my own original work. I have not copied, used unauthorized resources, or received assistance from others in preparing this assignment. \n",
    "\n",
    "Additionally, I have not used AI-assisted tools, including but not limited to ChatGPT, Grammarly, or code-generating software, to complete any part of this work. I understand that any violation of academic integrity policies may result in disciplinary action."
   ]
  },
  {
   "cell_type": "code",
   "execution_count": 2,
   "id": "a19834d6-9f1c-45a7-8b9e-e18f6ca9be8d",
   "metadata": {},
   "outputs": [],
   "source": [
    "import torch"
   ]
  },
  {
   "cell_type": "code",
   "execution_count": null,
   "id": "8183254c-0b2a-4a82-8847-d52844b6a0e0",
   "metadata": {},
   "outputs": [],
   "source": []
  }
 ],
 "metadata": {
  "kernelspec": {
   "display_name": "Python 3 (ipykernel)",
   "language": "python",
   "name": "python3"
  },
  "language_info": {
   "codemirror_mode": {
    "name": "ipython",
    "version": 3
   },
   "file_extension": ".py",
   "mimetype": "text/x-python",
   "name": "python",
   "nbconvert_exporter": "python",
   "pygments_lexer": "ipython3",
   "version": "3.11.5"
  }
 },
 "nbformat": 4,
 "nbformat_minor": 5
}
