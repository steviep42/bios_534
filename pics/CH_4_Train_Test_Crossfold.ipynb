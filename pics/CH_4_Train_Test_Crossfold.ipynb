{
 "cells": [
  {
   "cell_type": "markdown",
   "metadata": {},
   "source": [
    "# Training / Test Data - Crossfold Validation\n",
    "\n",
    "Steve Pittard wsp@emory.edu (citations to other sources are inline) \n",
    "\n",
    "> Predictive power is assessed using metrics computedfrom a holdout set or using cross-validation (Stone,1974; Geisser,1975)\n",
    "\n",
    "> Testing the procedure on the data that gave it birth is almost certain to overestimate performance” (Mosteller and Tukey,1977).\n",
    "\n",
    "\n",
    "Before we get in the weeds with Cross fold validation let's consider the \"dummy\" model. Think of the dummy model as\n",
    "the model that we must beat! I mean we could always do someting like estiamte the *mpg* of any car as being the average\n",
    "of the **mpg** column found in the **mtcars** data set but would that be reasonable? Probably not but it's a baseline\n",
    "model that we could say is perhaps the \"on average\" model. So then, any model we build MUST consistently produce less \n",
    "Out-of-sample / test error than the Dummy model - else we cannot say it is any good.\n",
    "\n",
    "\n",
    "## Dummy Model\n",
    "\n",
    "In machine learning, the term \"dummy model\" or \"null model\" refers to a simple, baseline model that serves as a reference point for comparing the performance of more complex models. The dummy model is typically straightforward and might not involve any learning from the data. It provides a baseline against which the performance of more sophisticated models can be measured.\n",
    "\n",
    "There are different types of dummy models, and their choice depends on the nature of the problem. Here are a few common types:\n",
    "\n",
    "1) Zero Rule (ZeroR): This is the simplest form of a dummy model where predictions are based solely on the majority class in a classification problem or the mean/median in a regression problem. It doesn't consider any features from the input data.\n",
    "\n",
    "2) Random Model: This dummy model generates predictions randomly, either following the distribution of the classes in a classification problem or using a random value within the range of target values in a regression problem.\n",
    "   \n",
    "3) Mean/Median Model: For regression problems, a dummy model might predict the mean or median of the target variable for all instances. This provides a baseline for comparison, and any more complex model should at least outperform this simple average.\n",
    "\n",
    "4) Stratified Model: In classification problems, a dummy model might predict the class distribution of the training set. For example, if 70% of the instances belong to class A and 30% to class B, the dummy model would predict class A for 70% of the instances and class B for 30%.\n",
    "The purpose of using a dummy model is to establish a baseline performance level. Any advanced machine learning model should demonstrate superior performance compared to the dummy model. If a complex model cannot outperform the dummy model, it suggests that there may be issues with the model, data, or the problem itself that need further investigation.\n",
    "\n",
    "## Relationship to NULL Hypothesis\n",
    "\n",
    "In statistical hypothesis testing, the concept of the null hypothesis is closely related to the idea of a dummy or null model in machine learning. Both involve establishing a baseline or default assumption against which observations or predictions are compared.\n",
    "\n",
    "**Null Hypothesis (in Statistics):**\n",
    "In statistical hypothesis testing, the null hypothesis (often denoted as H0) is a statement that there is no significant difference or effect. It serves as a default assumption or baseline that researchers aim to test against. The null hypothesis typically represents the status quo or the absence of an effect.\n",
    "\n",
    "For example, in the context of comparing two groups, the null hypothesis might state that there is no difference between the means of the two groups. The goal is to collect evidence against the null hypothesis and determine whether there is enough evidence to reject it in favor of an alternative hypothesis.\n",
    "\n",
    "**Relation to Dummy Model:**\n",
    "The null hypothesis in statistics shares a conceptual similarity with the dummy model in machine learning. Both represent a baseline assumption or model that assumes no underlying pattern or effect in the data.\n",
    "\n",
    "- **Null Hypothesis (Statistics):** Assumes no effect or difference.\n",
    "- **Dummy Model (Machine Learning):** Represents a simple, baseline model that often makes predictions based on simplistic rules, such as predicting the majority class or the mean/median value.\n",
    "\n",
    "In a way, the null hypothesis can be considered a form of a dummy model in the context of statistical hypothesis testing. It provides a reference point, and the goal is to assess whether the observed data provides enough evidence to reject the null hypothesis in favor of an alternative hypothesis, which suggests the presence of a meaningful effect or pattern. In machine learning we need to build a model(s) whose performance (as determined by some metric, significantly exceeds the performance of the NULL model.\n",
    "\n",
    "Both the null hypothesis in statistics and the dummy model in machine learning are essential for establishing a baseline for comparison and making informed decisions about the significance of observed patterns or model performance."
   ]
  },
  {
   "cell_type": "markdown",
   "metadata": {},
   "source": [
    "## Implement a Dummy Model\n",
    "\n",
    "So in our previous case (last week) how does any of this compare to the so called \"dummy\" or \"null\" model wherein we simply estimate the **mpg** for any data as simply being the mean of the **mpg** in the training data ? Python has an \"estimator\" called \"DummyRegressor\" to do this. \n",
    "\n",
    "Technically we don't need this since it might be easier to just write some code to do it ourselves but the function accomodates all the methods (e.g. predict, score) that go along with any predicive method in scikit. We are jumping ahead a little bit but it's just to show what a baseline level of performance might look like. \n"
   ]
  },
  {
   "cell_type": "code",
   "execution_count": 237,
   "metadata": {},
   "outputs": [
    {
     "data": {
      "text/plain": [
       "5.695"
      ]
     },
     "execution_count": 237,
     "metadata": {},
     "output_type": "execute_result"
    }
   ],
   "source": [
    "from sklearn.dummy import DummyRegressor\n",
    "\n",
    "# Get some training and testing data\n",
    "dum_train = mtcars.loc[train.index,:]\n",
    "dum_test  = mtcars.loc[test.index,:]\n",
    "\n",
    "X_dum_train = dum_train.drop('mpg',axis=1)\n",
    "y_dum_train = dum_train.mpg\n",
    "\n",
    "X_dum_test = dum_test.drop('mpg',axis=1)\n",
    "y_dum_test = dum_test.mpg\n",
    "\n",
    "\n",
    "# Use the DummyRegressor\n",
    "dummy = DummyRegressor(strategy=\"mean\")\n",
    "dummy.fit(X_dum_train,y_dum_train)\n",
    "\n",
    "# Test Preds\n",
    "y_test_dum_preds = dummy.predict(X_dum_test)\n",
    "rmse(y_dum_test,y_test_dum_preds)\n"
   ]
  },
  {
   "cell_type": "markdown",
   "metadata": {},
   "source": [
    "### Create a Function To Implement Dummy Regression (well kind of)\n",
    "\n",
    "So let's do something similar to what we did in the last notebook where we sampled the mtcars data frame using some proportion after which we created training and test data. Then we applied some model (linear regression) and subsequently observed training and testing error. We'll do much the same here but use the Dummy regressor"
   ]
  },
  {
   "cell_type": "code",
   "execution_count": 238,
   "metadata": {},
   "outputs": [],
   "source": [
    "def sample_and_model(prop=.60):\n",
    "    from sklearn.dummy import DummyRegressor\n",
    "\n",
    "    # Sample some number of rows from mtcars\n",
    "    dum_train = mtcars.sample(frac=prop)\n",
    "    dum_test  = mtcars.drop(train.index)\n",
    "   \n",
    "    X_dum_train = dum_train.drop('mpg',axis=1)\n",
    "    y_dum_train = dum_train.mpg\n",
    "\n",
    "    X_dum_test = dum_test.drop('mpg',axis=1)\n",
    "    y_dum_test = dum_test.mpg\n",
    "\n",
    "\n",
    "    # Use the DummyRegressor\n",
    "    dummy = DummyRegressor(strategy=\"mean\")\n",
    "    dummy.fit(X_dum_train,y_dum_train)\n",
    "\n",
    "    # Train Preds\n",
    "\n",
    "    y_train_dum_preds = dummy.predict(X_dum_train)\n",
    "    train_rmse = rmse(y_dum_train,y_train_dum_preds)\n",
    "\n",
    "    # Test Preds\n",
    "    y_test_dum_preds = dummy.predict(X_dum_test)\n",
    "    test_rmse = rmse(y_dum_test,y_test_dum_preds)\n",
    "    \n",
    "    return test_rmse, train_rmse, prop\n",
    "    "
   ]
  },
  {
   "cell_type": "code",
   "execution_count": 239,
   "metadata": {},
   "outputs": [
    {
     "data": {
      "text/plain": [
       "(5.226, 6.084, 0.6)"
      ]
     },
     "execution_count": 239,
     "metadata": {},
     "output_type": "execute_result"
    }
   ],
   "source": [
    "# Let's do a 60/40 split\n",
    "sample_and_model(prop=.60)"
   ]
  },
  {
   "cell_type": "markdown",
   "metadata": {},
   "source": [
    "### Do Multiple Simulations of the Same Proportions\n",
    "\n",
    "So we'll borrow the code from notebook 3 that let's us try out 100 versions of training and test data at a 70/30 split"
   ]
  },
  {
   "cell_type": "code",
   "execution_count": 267,
   "metadata": {},
   "outputs": [
    {
     "data": {
      "text/plain": [
       "Text(0.5, 1.0, 'Training vs Test RMSE - Dummy Model - 100 iterations')"
      ]
     },
     "execution_count": 267,
     "metadata": {},
     "output_type": "execute_result"
    },
    {
     "data": {
      "image/png": "[encoded data removed]",
      "text/plain": [
       "<Figure size 640x480 with 1 Axes>"
      ]
     },
     "metadata": {},
     "output_type": "display_data"
    }
   ],
   "source": [
    "import numpy as np\n",
    "\n",
    "# Use a list comprehension to capture 100 executions of sample_and_model\n",
    "arr  = [ sample_and_model(.7) for ii in range(0,100) ]\n",
    "\n",
    "# Print the first 5 rows of the arr list\n",
    "arr[0:5]\n",
    "\n",
    "df = pd.DataFrame(arr,columns=[\"train_rmse\",\"test_rmse\",\"proportion\"])\n",
    "df.head()\n",
    "df.boxplot(['test_rmse','train_rmse'])\n",
    "plt.title(\"Training vs Test RMSE - Dummy Model - 100 iterations\")"
   ]
  },
  {
   "cell_type": "markdown",
   "metadata": {},
   "source": [
    "### Try Different Proportions\n",
    "\n",
    "So we'll borrow the code from notebook 3 that let's us try out 100 versions of training and test data at a series of proportions ranging from 0.6 to 0.9\n"
   ]
  },
  {
   "cell_type": "code",
   "execution_count": 268,
   "metadata": {},
   "outputs": [
    {
     "data": {
      "image/png": "[encoded data removed]",
      "text/plain": [
       "<Figure size 700x500 with 2 Axes>"
      ]
     },
     "metadata": {},
     "output_type": "display_data"
    }
   ],
   "source": [
    "def train_tester(input,iterations):\n",
    "    \n",
    "    colnames = ['train_rmse','test_rmse','prop']\n",
    "    iterations = 100 \n",
    "    dflist = []\n",
    " \n",
    "    for ii in range(len(input)):\n",
    "        dflist.append(pd.DataFrame([sample_and_model(input[ii]) for i in range(0,iterations)],columns = colnames))\n",
    "\n",
    "    total = pd.concat(dflist)\n",
    "    return total\n",
    "\n",
    "total = train_tester([.6,.7,.8,.9],100)\n",
    "total.boxplot(['train_rmse','test_rmse'],by='prop',figsize=(7,5))\n",
    "plt.show()"
   ]
  },
  {
   "cell_type": "markdown",
   "metadata": {},
   "source": [
    "## Summary \n",
    "\n",
    "So we've been looking at the idea of splitting up our data frame, mtcars, into two different groups with the first being called **training** and the second being called **test**. The idea was simple\n",
    "\n",
    "1) Train our regression model on the training data, use the model to make predictions using the test data and then observe the RMSE value.\n",
    "2) Using the model in number 1, make predictions using the test data and then observe the RMSE value.\n",
    "\n",
    "The first iteration of this procedure was to simply take the first 22 records of mtcars, train a model on that, and then use the resulting model to make predictions on the test data. But then we considered that maybe the data was in a certain row order which could make it possible for the first part of the data frame to have outliers. Or, it could be that the test data could have the outliers. So we then did some random sampling to make the training data more random and less susceptible to having outliers. \n",
    "\n",
    "Finally we experimented with chopping up the mtcars data frame into training and testing data frames according to an 80 percent / 20 percent proportion respectively. We also looked at other proportions.\n",
    "\n",
    "\n",
    "<img src=\"pics/train_test.png\" width =\"500\" height=500>\n"
   ]
  },
  {
   "cell_type": "code",
   "execution_count": 242,
   "metadata": {},
   "outputs": [],
   "source": [
    "import pandas as pd\n",
    "# Read in some data\n",
    "url = \"https://raw.githubusercontent.com/steviep42/bios534_spring_2020/master/data/mtcars.csv\"\n",
    "\n",
    "# Setup some helpful tools\n",
    "import pandas as pd\n",
    "mtcars = pd.read_csv(url)\n"
   ]
  },
  {
   "cell_type": "markdown",
   "metadata": {},
   "source": [
    "https://www.stat.berkeley.edu/~aldous/157/Papers/shmueli.pdf\n",
    "\n",
    "Let’s extend this idea of training and test splits. Remember, our goal is to generate a robust model that better estimates out-of-sample error. We can do this by resampling our data set in a way that allows us to learn from the data but not so much so that it follows the data set too closely.\n",
    "\n",
    "We can take a single data set and partition / split it into a number of train / test subsets. We just did that in the earlier section but we only did it once. If we do this a number of times we hope we are training our model more effectively.\n",
    "\n",
    "What would the RMSE look like if we created say K number of subsets of the data frame and selectively held out each of the K subsets, built a model on the combined remaining subsets, and then tested the model on the holdout ? We would then average the RMSE to get an idea of its variation. The series of sequential steps would be as follows:"
   ]
  },
  {
   "cell_type": "markdown",
   "metadata": {},
   "source": [
    "```  \n",
    "  Subset the data frame into k groups \n",
    "  For each subset:\n",
    "     Consider the subset as a \"hold out\"\" or test data set\n",
    "     Combine the remaining subsets as a training data set\n",
    "     Fit a model on the combined training set \n",
    "     Evaluate the model using the holdout test set\n",
    "     Save the evaluation score (e.g. RNSE)\n",
    "\n",
    "  Summarize evaluation score (e.g. mean, MSE, RMSE, etc)\n",
    "```"
   ]
  },
  {
   "cell_type": "markdown",
   "metadata": {},
   "source": [
    "This is called K-Fold Cross Validation. A general view of this procedure is depicted in the following figure which shows a 5 Fold scenario.\n",
    "\n",
    "<img src=\"pics/folds_cv_latex.png\" width =\"700\" height=700>\n",
    "\n",
    "## Advantages\n",
    "\n",
    "So if we just split the data into one training and testing data set, whatever loss metric we might use to calculate the error might be drastically different between the training and testing data sets. I mentioned this previously. \n",
    "\n",
    "But by using the above approach we are systematically creating variations of the training and testing data.  This improves the likelihood that we get an unbiased estimate of the Out-Of-Sample error using the RMSE metric.\n"
   ]
  },
  {
   "cell_type": "markdown",
   "metadata": {},
   "source": [
    "## Basic Example\n",
    "\n",
    "Example taken from https://machinelearningmastery.com/k-fold-cross-validation/\n",
    "Consider a list of numbers. Say that this represents a column of data. We want to chop this list up into three folds.\n",
    "\n",
    "```\n",
    "[0.1, 0.2, 0.3, 0.4, 0.5, 0.6]\n",
    "```"
   ]
  },
  {
   "cell_type": "markdown",
   "metadata": {},
   "source": [
    "This could look like:\n",
    "\n",
    "```\n",
    "Fold1: [0.5, 0.2]\n",
    "Fold2: [0.1, 0.3]\n",
    "Fold3: [0.4, 0.6]\n",
    "```\n",
    "\n",
    "We could then use this information to train three models as follows.\n",
    "These models are trained and evaluated with each fold given a chance to be the test set.\n",
    "\n",
    "For example:\n",
    "\n",
    "    Model1: Trained on Fold1 + Fold2, Tested on Fold3\n",
    "    Model2: Trained on Fold2 + Fold3, Tested on Fold1\n",
    "    Model3: Trained on Fold1 + Fold3, Tested on Fold2\n",
    "\n",
    "The models are then discarded after they are evaluated as they have served their purpose.\n",
    "\n",
    "The skill scores are collected for each model and summarized for use."
   ]
  },
  {
   "cell_type": "markdown",
   "metadata": {},
   "source": [
    "## Cross Fold using mtcars\n",
    "\n",
    "Now, here is the general idea in illustrated form relative to mtcars. Assume we want 4 folds. We would divide the data frame into 4 folds of 8 records each. The first model would be built using Fold 1 as the holdout / test data set after first combining Folds 2,3 and 4 into a training set.\n",
    "\n",
    "<img src=\"pics/cv1.png\" width =\"700\" height=700>"
   ]
  },
  {
   "cell_type": "markdown",
   "metadata": {},
   "source": [
    "So the second iteration would then take the second fold as the holdout / test data frame and combine Folds 1,3, and 4 into a training data frame.\n",
    "\n",
    "<img src=\"pics/cv2.png\" width =\"700\" height=700>\n"
   ]
  },
  {
   "cell_type": "markdown",
   "metadata": {},
   "source": [
    "So we can do something like this by first splitting a data frame into K groups. "
   ]
  },
  {
   "cell_type": "code",
   "execution_count": 243,
   "metadata": {},
   "outputs": [],
   "source": [
    "%matplotlib inline\n",
    "import pandas as pd\n",
    "# Read in some data\n",
    "url = \"https://raw.githubusercontent.com/steviep42/bios534_spring_2020/master/data/mtcars.csv\"\n",
    "\n",
    "# Setup some helpful tools\n",
    "import pandas as pd\n",
    "mtcars = pd.read_csv(url)\n",
    "\n",
    "# Split a DF into groups of (hopefully) equal sizes   \n",
    "group_size = 8\n",
    "folds = [mtcars.iloc[i:i+group_size] for i in range(0,len(mtcars)-group_size+1,group_size)]"
   ]
  },
  {
   "cell_type": "markdown",
   "metadata": {},
   "source": [
    "Check out the folds to get a better understanding of what is going on. We generated a list that has 8 elements each of which holds a 4 element vector corresponding to indices for records in the mtcars data frame."
   ]
  },
  {
   "cell_type": "code",
   "execution_count": 244,
   "metadata": {},
   "outputs": [
    {
     "name": "stdout",
     "output_type": "stream",
     "text": [
      "\n",
      " Fold number: 1 \n",
      " \n",
      "     mpg  cyl   disp   hp  drat     wt   qsec  vs  am  gear  carb\n",
      "0  21.0    6  160.0  110  3.90  2.620  16.46   0   1     4     4\n",
      "1  21.0    6  160.0  110  3.90  2.875  17.02   0   1     4     4\n",
      "2  22.8    4  108.0   93  3.85  2.320  18.61   1   1     4     1\n",
      "3  21.4    6  258.0  110  3.08  3.215  19.44   1   0     3     1\n",
      "4  18.7    8  360.0  175  3.15  3.440  17.02   0   0     3     2\n",
      "5  18.1    6  225.0  105  2.76  3.460  20.22   1   0     3     1\n",
      "6  14.3    8  360.0  245  3.21  3.570  15.84   0   0     3     4\n",
      "7  24.4    4  146.7   62  3.69  3.190  20.00   1   0     4     2\n",
      "\n",
      " Fold number: 2 \n",
      " \n",
      "      mpg  cyl   disp   hp  drat     wt   qsec  vs  am  gear  carb\n",
      "8   22.8    4  140.8   95  3.92  3.150  22.90   1   0     4     2\n",
      "9   19.2    6  167.6  123  3.92  3.440  18.30   1   0     4     4\n",
      "10  17.8    6  167.6  123  3.92  3.440  18.90   1   0     4     4\n",
      "11  16.4    8  275.8  180  3.07  4.070  17.40   0   0     3     3\n",
      "12  17.3    8  275.8  180  3.07  3.730  17.60   0   0     3     3\n",
      "13  15.2    8  275.8  180  3.07  3.780  18.00   0   0     3     3\n",
      "14  10.4    8  472.0  205  2.93  5.250  17.98   0   0     3     4\n",
      "15  10.4    8  460.0  215  3.00  5.424  17.82   0   0     3     4\n",
      "\n",
      " Fold number: 3 \n",
      " \n",
      "      mpg  cyl   disp   hp  drat     wt   qsec  vs  am  gear  carb\n",
      "16  14.7    8  440.0  230  3.23  5.345  17.42   0   0     3     4\n",
      "17  32.4    4   78.7   66  4.08  2.200  19.47   1   1     4     1\n",
      "18  30.4    4   75.7   52  4.93  1.615  18.52   1   1     4     2\n",
      "19  33.9    4   71.1   65  4.22  1.835  19.90   1   1     4     1\n",
      "20  21.5    4  120.1   97  3.70  2.465  20.01   1   0     3     1\n",
      "21  15.5    8  318.0  150  2.76  3.520  16.87   0   0     3     2\n",
      "22  15.2    8  304.0  150  3.15  3.435  17.30   0   0     3     2\n",
      "23  13.3    8  350.0  245  3.73  3.840  15.41   0   0     3     4\n",
      "\n",
      " Fold number: 4 \n",
      " \n",
      "      mpg  cyl   disp   hp  drat     wt   qsec  vs  am  gear  carb\n",
      "24  19.2    8  400.0  175  3.08  3.845  17.05   0   0     3     2\n",
      "25  27.3    4   79.0   66  4.08  1.935  18.90   1   1     4     1\n",
      "26  26.0    4  120.3   91  4.43  2.140  16.70   0   1     5     2\n",
      "27  30.4    4   95.1  113  3.77  1.513  16.90   1   1     5     2\n",
      "28  15.8    8  351.0  264  4.22  3.170  14.50   0   1     5     4\n",
      "29  19.7    6  145.0  175  3.62  2.770  15.50   0   1     5     6\n",
      "30  15.0    8  301.0  335  3.54  3.570  14.60   0   1     5     8\n",
      "31  21.4    4  121.0  109  4.11  2.780  18.60   1   1     4     2\n"
     ]
    },
    {
     "data": {
      "text/plain": [
       "[None, None, None, None]"
      ]
     },
     "execution_count": 244,
     "metadata": {},
     "output_type": "execute_result"
    }
   ],
   "source": [
    "[print(\"\\n Fold number: %d \\n \\n\" % (i+1) ,folds[i]) for i in range(0,len(folds))]"
   ]
  },
  {
   "cell_type": "markdown",
   "metadata": {},
   "source": [
    "Next, we could then loop through each of these \"folds\" and train a model on all BUT that fold while later treating that fold as the testing data set. As before, we'll define our own RMSE function which is the performance metric we are currently focusing upon. Later on, you will see that defining our own function is unnecessary. "
   ]
  },
  {
   "cell_type": "markdown",
   "metadata": {},
   "source": [
    "Note that if we wanted, we could reshuffle or scramble the data frame before we split it. At this point, it is not necessary but later on it will be helpful"
   ]
  },
  {
   "cell_type": "code",
   "execution_count": 245,
   "metadata": {},
   "outputs": [
    {
     "name": "stdout",
     "output_type": "stream",
     "text": [
      "     mpg  cyl   disp   hp  drat    wt   qsec  vs  am  gear  carb\n",
      "9   19.2    6  167.6  123  3.92  3.44  18.30   1   0     4     4\n",
      "28  15.8    8  351.0  264  4.22  3.17  14.50   0   1     5     4\n",
      "17  32.4    4   78.7   66  4.08  2.20  19.47   1   1     4     1\n",
      "11  16.4    8  275.8  180  3.07  4.07  17.40   0   0     3     3\n",
      "6   14.3    8  360.0  245  3.21  3.57  15.84   0   0     3     4\n",
      "\n",
      "     mpg  cyl   disp   hp  drat     wt   qsec  vs  am  gear  carb\n",
      "9   19.2    6  167.6  123  3.92  3.440  18.30   1   0     4     4\n",
      "0   21.0    6  160.0  110  3.90  2.620  16.46   0   1     4     4\n",
      "25  27.3    4   79.0   66  4.08  1.935  18.90   1   1     4     1\n",
      "24  19.2    8  400.0  175  3.08  3.845  17.05   0   0     3     2\n",
      "27  30.4    4   95.1  113  3.77  1.513  16.90   1   1     5     2\n"
     ]
    }
   ],
   "source": [
    "print(mtcars.sample(len(mtcars))[0:5])\n",
    "print()\n",
    "\n",
    "# This time we get a different order\n",
    "print(mtcars.sample(len(mtcars))[0:5])"
   ]
  },
  {
   "cell_type": "code",
   "execution_count": 246,
   "metadata": {},
   "outputs": [],
   "source": [
    "# Let's define our RMSE function - soon you will see that this is unnecessary\n",
    "\n",
    "def rmse(actual,predictions):\n",
    "   from math import sqrt\n",
    "   myrmse = sqrt(((predictions-actual)**2).mean())\n",
    "   return round(myrmse,3)\n"
   ]
  },
  {
   "cell_type": "code",
   "execution_count": 247,
   "metadata": {},
   "outputs": [
    {
     "data": {
      "text/plain": [
       "<Axes: >"
      ]
     },
     "execution_count": 247,
     "metadata": {},
     "output_type": "execute_result"
    },
    {
     "data": {
      "image/png": "[encoded data removed]",
      "text/plain": [
       "<Figure size 640x480 with 1 Axes>"
      ]
     },
     "metadata": {},
     "output_type": "display_data"
    }
   ],
   "source": [
    "import statsmodels.api as sm \n",
    "\n",
    "# Setup a Blank List\n",
    "rmse_list = []\n",
    "\n",
    "# Create a series of training and test data sets\n",
    "for ii in range(0,len(folds)):\n",
    "    test = folds[0]\n",
    "    train = pd.concat(folds[1:len(folds)])\n",
    "    folds.append(folds[0])\n",
    "    del folds[0]\n",
    " \n",
    "    # Call the OLS function\n",
    "    \n",
    "    # Fit\n",
    "    result = sm.OLS(train.mpg,sm.add_constant(train.wt)).fit()\n",
    "    \n",
    "    # Capture training and testing error\n",
    "    train_rmse = rmse(train.mpg,result.predict(sm.add_constant(train.wt)))\n",
    "    test_rmse  = rmse(test.mpg,result.predict(sm.add_constant(test.wt)))\n",
    "    \n",
    "    # Append the errors to the list\n",
    "    rmse_list.append([train_rmse,test_rmse])\n",
    "\n",
    "# Boxplot the resulting training and testing errors\n",
    "error_frame = pd.DataFrame(rmse_list,columns=['train','test'])\n",
    "\n",
    "error_frame.describe()\n",
    "error_frame.boxplot()"
   ]
  },
  {
   "cell_type": "markdown",
   "metadata": {},
   "source": [
    "The above list structure allow us to drill down into any aspect of the models and predictions we have made for each of the folds. More importantly we can see how well the model works against each of the individual holdout / test data sets. In the end, we just want to be able to look at the average RMSE across the folds. This gives us clues as to how good the model might perform against new data."
   ]
  },
  {
   "cell_type": "code",
   "execution_count": 248,
   "metadata": {},
   "outputs": [
    {
     "data": {
      "text/plain": [
       "<Axes: title={'center': 'Training and Testing Error'}>"
      ]
     },
     "execution_count": 248,
     "metadata": {},
     "output_type": "execute_result"
    },
    {
     "data": {
      "image/png": "[encoded data removed]",
      "text/plain": [
       "<Figure size 640x480 with 1 Axes>"
      ]
     },
     "metadata": {},
     "output_type": "display_data"
    }
   ],
   "source": [
    "error_frame.plot(kind=\"line\",title=\"Training and Testing Error\", style='.-',grid=True)"
   ]
  },
  {
   "cell_type": "markdown",
   "metadata": {},
   "source": [
    "## Create A Function To Automate Things\n",
    "\n",
    "Since we have gone to the trouble of creating a loop structure to process the folds, we could easily turn this into a function to automate the splitting of the data frame across some arbitrary number of folds just to get an idea of how the RMSE looks for different numbers of folds.\n",
    "\n",
    "We could even have our function accommodate different formula if we wanted but we won’t focus on that right now. You will soon discover that the scikit-learn package does these kinds of things for you but we aren’t quite there yet."
   ]
  },
  {
   "cell_type": "code",
   "execution_count": 249,
   "metadata": {},
   "outputs": [],
   "source": [
    "def cross_validator(group_size=4,scramble=1,df=mtcars): \n",
    "\n",
    "    # If scramble is 1 then we resample the data frame\n",
    "    if (scramble == 1):\n",
    "        tempdf = df.sample(len(df))\n",
    "    \n",
    "    # Split the data frame intro groups the size of \"group_size\"\n",
    "    lst = [tempdf.iloc[i:i+group_size] for i in range(0,len(tempdf)-group_size+1,group_size)]\n",
    "    \n",
    "    # Setup a list to capture the rmse for training and testing\n",
    "    rmse_list = []\n",
    "\n",
    "    # Loop through the split dataframe\n",
    "    for ii in range(0,len(lst)):\n",
    "        test = lst[0]\n",
    "        train = pd.concat(lst[1:len(lst)])\n",
    "        lst.append(lst[0])\n",
    "        del lst[0]\n",
    "\n",
    "        # Do regression and figure out rmse for training and test\n",
    "        result = sm.OLS(train.mpg,sm.add_constant(train.wt)).fit()\n",
    "        train_rmse = rmse(train.mpg,result.predict(sm.add_constant(train.wt)))\n",
    "        test_rmse  = rmse(test.mpg,result.predict(sm.add_constant(test.wt)))\n",
    "          \n",
    "        # append the data into the list \n",
    "        rmse_list.append([train_rmse,test_rmse])\n",
    "        \n",
    "        #title = \"RMSE for \" + str(round(len(df)/group_size,2)) + \" folds\"\n",
    "        title = \"RMSE for \" + str(group_size) + \" folds\"\n",
    "        \n",
    "    return([title,pd.DataFrame(rmse_list,columns=['train','test'])])\n"
   ]
  },
  {
   "cell_type": "code",
   "execution_count": 250,
   "metadata": {},
   "outputs": [
    {
     "data": {
      "text/plain": [
       "<Axes: title={'center': 'RMSE for 4 folds'}>"
      ]
     },
     "execution_count": 250,
     "metadata": {},
     "output_type": "execute_result"
    },
    {
     "data": {
      "image/png": "[encoded data removed]",
      "text/plain": [
       "<Figure size 640x480 with 1 Axes>"
      ]
     },
     "metadata": {},
     "output_type": "display_data"
    }
   ],
   "source": [
    "# Now Call the function\n",
    "title, error_frame = cross_validator(4,1)\n",
    "\n",
    "# Make a Plot of the Error\n",
    "error_frame.plot(kind='line',title = title, style='.-')"
   ]
  },
  {
   "cell_type": "markdown",
   "metadata": {},
   "source": [
    "## Cross Validation\n",
    "\n",
    "Since we already have an existing function we can up the ante by repeating the cross validation. This will provide more data on how the RMSE might be distributed across multiple runs, each of which does Cross Fold validation. This example will repeat a 4 Fold Cross Validation , 20 times. In the domain of Machine Learning this is known as \"Repeated Cross Fold Validation\". We can reuse our function from before and add a new argument to it and make a minor adjustment to the coding logic to accomodate this new capability.\n"
   ]
  },
  {
   "cell_type": "code",
   "execution_count": 251,
   "metadata": {},
   "outputs": [],
   "source": [
    "def cross_validator(group_size=4,scramble=1,df=mtcars,repeat=10): \n",
    "\n",
    "    # Setup a list to capture the rmse for training and testing\n",
    "    rmse_list = []\n",
    "\n",
    "    for jj in range(0,repeat):\n",
    "        if (scramble == 1):\n",
    "            tempdf = df.sample(len(df))\n",
    "\n",
    "        # Split the data frame intro groups the size of \"group_size\"\n",
    "        lst = [tempdf.iloc[i:i+group_size] for i in range(0,len(tempdf)-group_size+1,group_size)]\n",
    "\n",
    "        # Loop through the split dataframe\n",
    "        for ii in range(0,len(lst)):\n",
    "            test = lst[0]\n",
    "            train = pd.concat(lst[1:len(lst)])\n",
    "            lst.append(lst[0])\n",
    "            del lst[0]\n",
    "\n",
    "            # Do regression and figure out rmse for training and test\n",
    "            result = sm.OLS(train.mpg,sm.add_constant(train.wt)).fit()\n",
    "            train_rmse = rmse(train.mpg,result.predict(sm.add_constant(train.wt)))\n",
    "            test_rmse  = rmse(test.mpg,result.predict(sm.add_constant(test.wt)))\n",
    "\n",
    "            # append the data into the list \n",
    "            rmse_list.append([train_rmse,test_rmse,jj+1])\n",
    "\n",
    "            title = \"RMSE for \" + str(round(len(df)/group_size,2)) + \" folds and \" + str(repeat) + \" repeats\"\n",
    "\n",
    "    return([title,pd.DataFrame(rmse_list,columns=['train','test','repeat'])])\n"
   ]
  },
  {
   "cell_type": "code",
   "execution_count": 252,
   "metadata": {},
   "outputs": [
    {
     "data": {
      "text/plain": [
       "<Axes: title={'center': 'RMSE for 4.0 folds and 10 repeats'}>"
      ]
     },
     "execution_count": 252,
     "metadata": {},
     "output_type": "execute_result"
    },
    {
     "data": {
      "image/png": "[encoded data removed]",
      "text/plain": [
       "<Figure size 640x480 with 1 Axes>"
      ]
     },
     "metadata": {},
     "output_type": "display_data"
    }
   ],
   "source": [
    "title, error_frame = cross_validator(group_size=8,repeat=10)\n",
    "error_frame[['train','test']].plot(kind=\"box\",grid=True, title=title)"
   ]
  },
  {
   "cell_type": "code",
   "execution_count": 253,
   "metadata": {},
   "outputs": [
    {
     "data": {
      "text/plain": [
       "<Axes: title={'center': 'test'}, xlabel='repeat'>"
      ]
     },
     "execution_count": 253,
     "metadata": {},
     "output_type": "execute_result"
    },
    {
     "data": {
      "image/png": "[encoded data removed]",
      "text/plain": [
       "<Figure size 900x500 with 1 Axes>"
      ]
     },
     "metadata": {},
     "output_type": "display_data"
    }
   ],
   "source": [
    "# This shows the test RMSE for each repeat\n",
    "error_frame.boxplot(column='test',by=\"repeat\",figsize=(9,5)) "
   ]
  },
  {
   "cell_type": "markdown",
   "metadata": {},
   "source": [
    "## Bootstrap\n",
    "\n",
    "An alternative to K-Fold Cross Validation is to use the bootstrap sampling approach which will produce training data sets the same size as the original data set although some observations might be repeated as the sampling process is done with replacement. The observations that do not appear in each of the training sets are then used as a test set. These observations are known as “out of bag samples”. We can alter our existing function to accomodate this form of sampling. But before we do that let me show you what I mean.\n",
    "\n",
    "### More Info on the Bootstrap\n",
    "\n",
    "The bootstrap method usually describes a general way to get ideas about a larger collection or population when you have access to a smaller sample of data from the larger population. Think about the heights of everyone in the classroom. If we had no access to anyone else we could use boostrap techniques to perhaps estiamte the average heights of all people outside of the classroom.\n",
    "\n",
    "What we do is take observations from the our smaller sample data multiple times. We allow for the possibility that we might sample the same observation more than once under the premise that this might well happen in the much larger population. That is, there might be duplicates. So we sample with replacement. To show you how this looks at a baci level then consider the following:\n",
    "\n",
    "Importantly, samples are constructed by drawing observations from a large data sample one at a time and returning them to the data sample after they have been chosen. This allows a given observation to be included in a given small sample more than once. This approach to sampling is called sampling with replacement.\n",
    "\n",
    "So here is an example of a basic bootstrap. We have a small list of data values which might well be the only information we could get about a larger popualtion. We can use the idea of sampling N values from the list where N equals the length of the list. We'll sample with replacement as a way to better emulate what we might see in the larger popuation. We don't really know if this is true or not but it's one way to think about the larger population from which this list of numbers came. Lastly, we'll repear this procedure say 1,000 times."
   ]
  },
  {
   "cell_type": "code",
   "execution_count": 254,
   "metadata": {},
   "outputs": [
    {
     "name": "stdout",
     "output_type": "stream",
     "text": [
      "Bootstrapped Sample 1: [54, 88, 12, 12, 56, 23, 88, 21, 47, 67, 88, 79, 47, 79, 12, 54, 89]\n",
      "Bootstrapped Sample 2: [45, 67, 54, 89, 21, 67, 45, 99, 78, 23, 90, 67, 90, 99, 54, 67, 34]\n",
      "Bootstrapped Sample 3: [43, 45, 23, 90, 99, 23, 54, 88, 88, 43, 56, 89, 56, 21, 90, 34, 79]\n"
     ]
    }
   ],
   "source": [
    "import random\n",
    "\n",
    "# Example list of numbers\n",
    "original_data = [23, 45, 12, 67, 89, 34, 56, 78, 90, 43, 99, 23, 88, 79, 54, 21, 47]\n",
    "\n",
    "# Function to perform bootstrapping on a list of numbers\n",
    "def bootstrap_sample(data, num_samples=1000):\n",
    "    bootstrapped_samples = []\n",
    "    data_size = len(data)\n",
    "\n",
    "    for _ in range(num_samples):\n",
    "        # Generate a bootstrap sample by sampling with replacement\n",
    "        bootstrap_sample = [data[random.randint(0, data_size - 1)] for _ in range(data_size)]\n",
    "        bootstrapped_samples.append(bootstrap_sample)\n",
    "\n",
    "    return bootstrapped_samples\n",
    "\n",
    "# Example of bootstrapping on a list of numbers\n",
    "bootstrapped_samples = bootstrap_sample(original_data)\n",
    "\n",
    "# Print a few examples of bootstrapped samples\n",
    "for i in range(3):\n",
    "    print(f\"Bootstrapped Sample {i + 1}: {bootstrapped_samples[i]}\")\n"
   ]
  },
  {
   "cell_type": "markdown",
   "metadata": {},
   "source": [
    "We could then use this information to arrive at some idea about the estimate the average of some larger population. We can easily estiamte the average of the list we already have."
   ]
  },
  {
   "cell_type": "code",
   "execution_count": 255,
   "metadata": {},
   "outputs": [
    {
     "name": "stdout",
     "output_type": "stream",
     "text": [
      "Original Data: [23, 45, 12, 67, 89, 34, 56, 78, 90, 43, 99, 23, 88, 79, 54, 21, 47]\n",
      "Actual Average of Original Data: 55.76\n",
      "Estimated Average using Bootstrapped Samples: 55.98\n"
     ]
    }
   ],
   "source": [
    "# Function to estimate the average using bootstrapped samples\n",
    "def estimate_average(bootstrapped_samples):\n",
    "    sample_means = [sum(sample) / len(sample) for sample in bootstrapped_samples]\n",
    "    average_estimate = sum(sample_means) / len(sample_means)\n",
    "    return average_estimate\n",
    "\n",
    "# Calculate the actual average of the original data\n",
    "actual_average = sum(original_data) / len(original_data)\n",
    "\n",
    "# Example of bootstrapping on a list of numbers\n",
    "bootstrapped_samples = bootstrap_sample(original_data)\n",
    "\n",
    "# Estimate the average using bootstrapped samples\n",
    "average_estimate = estimate_average(bootstrapped_samples)\n",
    "\n",
    "# Print the results\n",
    "print(f\"Original Data: {original_data}\")\n",
    "print(f\"Actual Average of Original Data: {actual_average:.2f}\")\n",
    "print(f\"Estimated Average using Bootstrapped Samples: {average_estimate:.2f}\")"
   ]
  },
  {
   "cell_type": "markdown",
   "metadata": {},
   "source": [
    "### Confidence Interval\n",
    "\n",
    "We can actually extend this idea to get a confidence interval for the true value of the population mean."
   ]
  },
  {
   "cell_type": "code",
   "execution_count": 256,
   "metadata": {},
   "outputs": [
    {
     "name": "stdout",
     "output_type": "stream",
     "text": [
      "Original Data: [23, 45, 12, 67, 89, 34, 56, 78, 90, 43, 99, 23, 88, 79, 54, 21, 47]\n",
      "Actual Average of Original Data: 55.76\n",
      "Estimated Average using Bootstrapped Samples: 55.43\n",
      "Confidence Interval for the Mean: [12.00, 99.00]\n"
     ]
    }
   ],
   "source": [
    "# Function to create a confidence interval for the mean\n",
    "def confidence_interval(bootstrapped_samples, alpha=0.10):\n",
    "    lower_bound = np.percentile(bootstrapped_samples, alpha / 2 * 100)\n",
    "    upper_bound = np.percentile(bootstrapped_samples, (1 - alpha / 2) * 100)\n",
    "    return lower_bound, upper_bound\n",
    "\n",
    "# Calculate the actual average of the original data\n",
    "actual_average = np.mean(original_data)\n",
    "\n",
    "# Example of bootstrapping on a list of numbers\n",
    "bootstrapped_samples = bootstrap_sample(original_data)\n",
    "\n",
    "# Estimate the average using bootstrapped samples\n",
    "average_estimate = estimate_average(bootstrapped_samples)\n",
    "\n",
    "# Create a confidence interval for the mean\n",
    "lower_bound, upper_bound = confidence_interval(bootstrapped_samples)\n",
    "\n",
    "# Print the results\n",
    "print(f\"Original Data: {original_data}\")\n",
    "print(f\"Actual Average of Original Data: {actual_average:.2f}\")\n",
    "print(f\"Estimated Average using Bootstrapped Samples: {average_estimate:.2f}\")\n",
    "print(f\"Confidence Interval for the Mean: [{lower_bound:.2f}, {upper_bound:.2f}]\")\n"
   ]
  },
  {
   "cell_type": "markdown",
   "metadata": {},
   "source": [
    "## Bootstrap for Machine Learning\n",
    "\n",
    "Well, let's now apply the idea of bootstrap to the idea of training and testing data. We can easily sample some number of records with replacement from mtcars. Below we sample some rows. Note that the argument of **random_state=100** means that this example is reproducible. "
   ]
  },
  {
   "cell_type": "code",
   "execution_count": 257,
   "metadata": {},
   "outputs": [
    {
     "data": {
      "text/html": [
       "<div>\n",
       "<style scoped>\n",
       "    .dataframe tbody tr th:only-of-type {\n",
       "        vertical-align: middle;\n",
       "    }\n",
       "\n",
       "    .dataframe tbody tr th {\n",
       "        vertical-align: top;\n",
       "    }\n",
       "\n",
       "    .dataframe thead th {\n",
       "        text-align: right;\n",
       "    }\n",
       "</style>\n",
       "<table border=\"1\" class=\"dataframe\">\n",
       "  <thead>\n",
       "    <tr style=\"text-align: right;\">\n",
       "      <th></th>\n",
       "      <th>mpg</th>\n",
       "      <th>cyl</th>\n",
       "      <th>disp</th>\n",
       "      <th>hp</th>\n",
       "      <th>drat</th>\n",
       "      <th>wt</th>\n",
       "      <th>qsec</th>\n",
       "      <th>vs</th>\n",
       "      <th>am</th>\n",
       "      <th>gear</th>\n",
       "      <th>carb</th>\n",
       "    </tr>\n",
       "  </thead>\n",
       "  <tbody>\n",
       "    <tr>\n",
       "      <th>8</th>\n",
       "      <td>22.8</td>\n",
       "      <td>4</td>\n",
       "      <td>140.8</td>\n",
       "      <td>95</td>\n",
       "      <td>3.92</td>\n",
       "      <td>3.150</td>\n",
       "      <td>22.90</td>\n",
       "      <td>1</td>\n",
       "      <td>0</td>\n",
       "      <td>4</td>\n",
       "      <td>2</td>\n",
       "    </tr>\n",
       "    <tr>\n",
       "      <th>24</th>\n",
       "      <td>19.2</td>\n",
       "      <td>8</td>\n",
       "      <td>400.0</td>\n",
       "      <td>175</td>\n",
       "      <td>3.08</td>\n",
       "      <td>3.845</td>\n",
       "      <td>17.05</td>\n",
       "      <td>0</td>\n",
       "      <td>0</td>\n",
       "      <td>3</td>\n",
       "      <td>2</td>\n",
       "    </tr>\n",
       "    <tr>\n",
       "      <th>3</th>\n",
       "      <td>21.4</td>\n",
       "      <td>6</td>\n",
       "      <td>258.0</td>\n",
       "      <td>110</td>\n",
       "      <td>3.08</td>\n",
       "      <td>3.215</td>\n",
       "      <td>19.44</td>\n",
       "      <td>1</td>\n",
       "      <td>0</td>\n",
       "      <td>3</td>\n",
       "      <td>1</td>\n",
       "    </tr>\n",
       "    <tr>\n",
       "      <th>7</th>\n",
       "      <td>24.4</td>\n",
       "      <td>4</td>\n",
       "      <td>146.7</td>\n",
       "      <td>62</td>\n",
       "      <td>3.69</td>\n",
       "      <td>3.190</td>\n",
       "      <td>20.00</td>\n",
       "      <td>1</td>\n",
       "      <td>0</td>\n",
       "      <td>4</td>\n",
       "      <td>2</td>\n",
       "    </tr>\n",
       "    <tr>\n",
       "      <th>23</th>\n",
       "      <td>13.3</td>\n",
       "      <td>8</td>\n",
       "      <td>350.0</td>\n",
       "      <td>245</td>\n",
       "      <td>3.73</td>\n",
       "      <td>3.840</td>\n",
       "      <td>15.41</td>\n",
       "      <td>0</td>\n",
       "      <td>0</td>\n",
       "      <td>3</td>\n",
       "      <td>4</td>\n",
       "    </tr>\n",
       "    <tr>\n",
       "      <th>15</th>\n",
       "      <td>10.4</td>\n",
       "      <td>8</td>\n",
       "      <td>460.0</td>\n",
       "      <td>215</td>\n",
       "      <td>3.00</td>\n",
       "      <td>5.424</td>\n",
       "      <td>17.82</td>\n",
       "      <td>0</td>\n",
       "      <td>0</td>\n",
       "      <td>3</td>\n",
       "      <td>4</td>\n",
       "    </tr>\n",
       "    <tr>\n",
       "      <th>16</th>\n",
       "      <td>14.7</td>\n",
       "      <td>8</td>\n",
       "      <td>440.0</td>\n",
       "      <td>230</td>\n",
       "      <td>3.23</td>\n",
       "      <td>5.345</td>\n",
       "      <td>17.42</td>\n",
       "      <td>0</td>\n",
       "      <td>0</td>\n",
       "      <td>3</td>\n",
       "      <td>4</td>\n",
       "    </tr>\n",
       "    <tr>\n",
       "      <th>10</th>\n",
       "      <td>17.8</td>\n",
       "      <td>6</td>\n",
       "      <td>167.6</td>\n",
       "      <td>123</td>\n",
       "      <td>3.92</td>\n",
       "      <td>3.440</td>\n",
       "      <td>18.90</td>\n",
       "      <td>1</td>\n",
       "      <td>0</td>\n",
       "      <td>4</td>\n",
       "      <td>4</td>\n",
       "    </tr>\n",
       "    <tr>\n",
       "      <th>30</th>\n",
       "      <td>15.0</td>\n",
       "      <td>8</td>\n",
       "      <td>301.0</td>\n",
       "      <td>335</td>\n",
       "      <td>3.54</td>\n",
       "      <td>3.570</td>\n",
       "      <td>14.60</td>\n",
       "      <td>0</td>\n",
       "      <td>1</td>\n",
       "      <td>5</td>\n",
       "      <td>8</td>\n",
       "    </tr>\n",
       "    <tr>\n",
       "      <th>20</th>\n",
       "      <td>21.5</td>\n",
       "      <td>4</td>\n",
       "      <td>120.1</td>\n",
       "      <td>97</td>\n",
       "      <td>3.70</td>\n",
       "      <td>2.465</td>\n",
       "      <td>20.01</td>\n",
       "      <td>1</td>\n",
       "      <td>0</td>\n",
       "      <td>3</td>\n",
       "      <td>1</td>\n",
       "    </tr>\n",
       "    <tr>\n",
       "      <th>2</th>\n",
       "      <td>22.8</td>\n",
       "      <td>4</td>\n",
       "      <td>108.0</td>\n",
       "      <td>93</td>\n",
       "      <td>3.85</td>\n",
       "      <td>2.320</td>\n",
       "      <td>18.61</td>\n",
       "      <td>1</td>\n",
       "      <td>1</td>\n",
       "      <td>4</td>\n",
       "      <td>1</td>\n",
       "    </tr>\n",
       "    <tr>\n",
       "      <th>21</th>\n",
       "      <td>15.5</td>\n",
       "      <td>8</td>\n",
       "      <td>318.0</td>\n",
       "      <td>150</td>\n",
       "      <td>2.76</td>\n",
       "      <td>3.520</td>\n",
       "      <td>16.87</td>\n",
       "      <td>0</td>\n",
       "      <td>0</td>\n",
       "      <td>3</td>\n",
       "      <td>2</td>\n",
       "    </tr>\n",
       "    <tr>\n",
       "      <th>2</th>\n",
       "      <td>22.8</td>\n",
       "      <td>4</td>\n",
       "      <td>108.0</td>\n",
       "      <td>93</td>\n",
       "      <td>3.85</td>\n",
       "      <td>2.320</td>\n",
       "      <td>18.61</td>\n",
       "      <td>1</td>\n",
       "      <td>1</td>\n",
       "      <td>4</td>\n",
       "      <td>1</td>\n",
       "    </tr>\n",
       "    <tr>\n",
       "      <th>2</th>\n",
       "      <td>22.8</td>\n",
       "      <td>4</td>\n",
       "      <td>108.0</td>\n",
       "      <td>93</td>\n",
       "      <td>3.85</td>\n",
       "      <td>2.320</td>\n",
       "      <td>18.61</td>\n",
       "      <td>1</td>\n",
       "      <td>1</td>\n",
       "      <td>4</td>\n",
       "      <td>1</td>\n",
       "    </tr>\n",
       "    <tr>\n",
       "      <th>14</th>\n",
       "      <td>10.4</td>\n",
       "      <td>8</td>\n",
       "      <td>472.0</td>\n",
       "      <td>205</td>\n",
       "      <td>2.93</td>\n",
       "      <td>5.250</td>\n",
       "      <td>17.98</td>\n",
       "      <td>0</td>\n",
       "      <td>0</td>\n",
       "      <td>3</td>\n",
       "      <td>4</td>\n",
       "    </tr>\n",
       "    <tr>\n",
       "      <th>2</th>\n",
       "      <td>22.8</td>\n",
       "      <td>4</td>\n",
       "      <td>108.0</td>\n",
       "      <td>93</td>\n",
       "      <td>3.85</td>\n",
       "      <td>2.320</td>\n",
       "      <td>18.61</td>\n",
       "      <td>1</td>\n",
       "      <td>1</td>\n",
       "      <td>4</td>\n",
       "      <td>1</td>\n",
       "    </tr>\n",
       "    <tr>\n",
       "      <th>17</th>\n",
       "      <td>32.4</td>\n",
       "      <td>4</td>\n",
       "      <td>78.7</td>\n",
       "      <td>66</td>\n",
       "      <td>4.08</td>\n",
       "      <td>2.200</td>\n",
       "      <td>19.47</td>\n",
       "      <td>1</td>\n",
       "      <td>1</td>\n",
       "      <td>4</td>\n",
       "      <td>1</td>\n",
       "    </tr>\n",
       "    <tr>\n",
       "      <th>16</th>\n",
       "      <td>14.7</td>\n",
       "      <td>8</td>\n",
       "      <td>440.0</td>\n",
       "      <td>230</td>\n",
       "      <td>3.23</td>\n",
       "      <td>5.345</td>\n",
       "      <td>17.42</td>\n",
       "      <td>0</td>\n",
       "      <td>0</td>\n",
       "      <td>3</td>\n",
       "      <td>4</td>\n",
       "    </tr>\n",
       "    <tr>\n",
       "      <th>24</th>\n",
       "      <td>19.2</td>\n",
       "      <td>8</td>\n",
       "      <td>400.0</td>\n",
       "      <td>175</td>\n",
       "      <td>3.08</td>\n",
       "      <td>3.845</td>\n",
       "      <td>17.05</td>\n",
       "      <td>0</td>\n",
       "      <td>0</td>\n",
       "      <td>3</td>\n",
       "      <td>2</td>\n",
       "    </tr>\n",
       "    <tr>\n",
       "      <th>15</th>\n",
       "      <td>10.4</td>\n",
       "      <td>8</td>\n",
       "      <td>460.0</td>\n",
       "      <td>215</td>\n",
       "      <td>3.00</td>\n",
       "      <td>5.424</td>\n",
       "      <td>17.82</td>\n",
       "      <td>0</td>\n",
       "      <td>0</td>\n",
       "      <td>3</td>\n",
       "      <td>4</td>\n",
       "    </tr>\n",
       "    <tr>\n",
       "      <th>4</th>\n",
       "      <td>18.7</td>\n",
       "      <td>8</td>\n",
       "      <td>360.0</td>\n",
       "      <td>175</td>\n",
       "      <td>3.15</td>\n",
       "      <td>3.440</td>\n",
       "      <td>17.02</td>\n",
       "      <td>0</td>\n",
       "      <td>0</td>\n",
       "      <td>3</td>\n",
       "      <td>2</td>\n",
       "    </tr>\n",
       "    <tr>\n",
       "      <th>11</th>\n",
       "      <td>16.4</td>\n",
       "      <td>8</td>\n",
       "      <td>275.8</td>\n",
       "      <td>180</td>\n",
       "      <td>3.07</td>\n",
       "      <td>4.070</td>\n",
       "      <td>17.40</td>\n",
       "      <td>0</td>\n",
       "      <td>0</td>\n",
       "      <td>3</td>\n",
       "      <td>3</td>\n",
       "    </tr>\n",
       "    <tr>\n",
       "      <th>28</th>\n",
       "      <td>15.8</td>\n",
       "      <td>8</td>\n",
       "      <td>351.0</td>\n",
       "      <td>264</td>\n",
       "      <td>4.22</td>\n",
       "      <td>3.170</td>\n",
       "      <td>14.50</td>\n",
       "      <td>0</td>\n",
       "      <td>1</td>\n",
       "      <td>5</td>\n",
       "      <td>4</td>\n",
       "    </tr>\n",
       "    <tr>\n",
       "      <th>26</th>\n",
       "      <td>26.0</td>\n",
       "      <td>4</td>\n",
       "      <td>120.3</td>\n",
       "      <td>91</td>\n",
       "      <td>4.43</td>\n",
       "      <td>2.140</td>\n",
       "      <td>16.70</td>\n",
       "      <td>0</td>\n",
       "      <td>1</td>\n",
       "      <td>5</td>\n",
       "      <td>2</td>\n",
       "    </tr>\n",
       "    <tr>\n",
       "      <th>16</th>\n",
       "      <td>14.7</td>\n",
       "      <td>8</td>\n",
       "      <td>440.0</td>\n",
       "      <td>230</td>\n",
       "      <td>3.23</td>\n",
       "      <td>5.345</td>\n",
       "      <td>17.42</td>\n",
       "      <td>0</td>\n",
       "      <td>0</td>\n",
       "      <td>3</td>\n",
       "      <td>4</td>\n",
       "    </tr>\n",
       "    <tr>\n",
       "      <th>27</th>\n",
       "      <td>30.4</td>\n",
       "      <td>4</td>\n",
       "      <td>95.1</td>\n",
       "      <td>113</td>\n",
       "      <td>3.77</td>\n",
       "      <td>1.513</td>\n",
       "      <td>16.90</td>\n",
       "      <td>1</td>\n",
       "      <td>1</td>\n",
       "      <td>5</td>\n",
       "      <td>2</td>\n",
       "    </tr>\n",
       "    <tr>\n",
       "      <th>9</th>\n",
       "      <td>19.2</td>\n",
       "      <td>6</td>\n",
       "      <td>167.6</td>\n",
       "      <td>123</td>\n",
       "      <td>3.92</td>\n",
       "      <td>3.440</td>\n",
       "      <td>18.30</td>\n",
       "      <td>1</td>\n",
       "      <td>0</td>\n",
       "      <td>4</td>\n",
       "      <td>4</td>\n",
       "    </tr>\n",
       "    <tr>\n",
       "      <th>29</th>\n",
       "      <td>19.7</td>\n",
       "      <td>6</td>\n",
       "      <td>145.0</td>\n",
       "      <td>175</td>\n",
       "      <td>3.62</td>\n",
       "      <td>2.770</td>\n",
       "      <td>15.50</td>\n",
       "      <td>0</td>\n",
       "      <td>1</td>\n",
       "      <td>5</td>\n",
       "      <td>6</td>\n",
       "    </tr>\n",
       "    <tr>\n",
       "      <th>22</th>\n",
       "      <td>15.2</td>\n",
       "      <td>8</td>\n",
       "      <td>304.0</td>\n",
       "      <td>150</td>\n",
       "      <td>3.15</td>\n",
       "      <td>3.435</td>\n",
       "      <td>17.30</td>\n",
       "      <td>0</td>\n",
       "      <td>0</td>\n",
       "      <td>3</td>\n",
       "      <td>2</td>\n",
       "    </tr>\n",
       "    <tr>\n",
       "      <th>2</th>\n",
       "      <td>22.8</td>\n",
       "      <td>4</td>\n",
       "      <td>108.0</td>\n",
       "      <td>93</td>\n",
       "      <td>3.85</td>\n",
       "      <td>2.320</td>\n",
       "      <td>18.61</td>\n",
       "      <td>1</td>\n",
       "      <td>1</td>\n",
       "      <td>4</td>\n",
       "      <td>1</td>\n",
       "    </tr>\n",
       "    <tr>\n",
       "      <th>27</th>\n",
       "      <td>30.4</td>\n",
       "      <td>4</td>\n",
       "      <td>95.1</td>\n",
       "      <td>113</td>\n",
       "      <td>3.77</td>\n",
       "      <td>1.513</td>\n",
       "      <td>16.90</td>\n",
       "      <td>1</td>\n",
       "      <td>1</td>\n",
       "      <td>5</td>\n",
       "      <td>2</td>\n",
       "    </tr>\n",
       "    <tr>\n",
       "      <th>12</th>\n",
       "      <td>17.3</td>\n",
       "      <td>8</td>\n",
       "      <td>275.8</td>\n",
       "      <td>180</td>\n",
       "      <td>3.07</td>\n",
       "      <td>3.730</td>\n",
       "      <td>17.60</td>\n",
       "      <td>0</td>\n",
       "      <td>0</td>\n",
       "      <td>3</td>\n",
       "      <td>3</td>\n",
       "    </tr>\n",
       "  </tbody>\n",
       "</table>\n",
       "</div>"
      ],
      "text/plain": [
       "     mpg  cyl   disp   hp  drat     wt   qsec  vs  am  gear  carb\n",
       "8   22.8    4  140.8   95  3.92  3.150  22.90   1   0     4     2\n",
       "24  19.2    8  400.0  175  3.08  3.845  17.05   0   0     3     2\n",
       "3   21.4    6  258.0  110  3.08  3.215  19.44   1   0     3     1\n",
       "7   24.4    4  146.7   62  3.69  3.190  20.00   1   0     4     2\n",
       "23  13.3    8  350.0  245  3.73  3.840  15.41   0   0     3     4\n",
       "15  10.4    8  460.0  215  3.00  5.424  17.82   0   0     3     4\n",
       "16  14.7    8  440.0  230  3.23  5.345  17.42   0   0     3     4\n",
       "10  17.8    6  167.6  123  3.92  3.440  18.90   1   0     4     4\n",
       "30  15.0    8  301.0  335  3.54  3.570  14.60   0   1     5     8\n",
       "20  21.5    4  120.1   97  3.70  2.465  20.01   1   0     3     1\n",
       "2   22.8    4  108.0   93  3.85  2.320  18.61   1   1     4     1\n",
       "21  15.5    8  318.0  150  2.76  3.520  16.87   0   0     3     2\n",
       "2   22.8    4  108.0   93  3.85  2.320  18.61   1   1     4     1\n",
       "2   22.8    4  108.0   93  3.85  2.320  18.61   1   1     4     1\n",
       "14  10.4    8  472.0  205  2.93  5.250  17.98   0   0     3     4\n",
       "2   22.8    4  108.0   93  3.85  2.320  18.61   1   1     4     1\n",
       "17  32.4    4   78.7   66  4.08  2.200  19.47   1   1     4     1\n",
       "16  14.7    8  440.0  230  3.23  5.345  17.42   0   0     3     4\n",
       "24  19.2    8  400.0  175  3.08  3.845  17.05   0   0     3     2\n",
       "15  10.4    8  460.0  215  3.00  5.424  17.82   0   0     3     4\n",
       "4   18.7    8  360.0  175  3.15  3.440  17.02   0   0     3     2\n",
       "11  16.4    8  275.8  180  3.07  4.070  17.40   0   0     3     3\n",
       "28  15.8    8  351.0  264  4.22  3.170  14.50   0   1     5     4\n",
       "26  26.0    4  120.3   91  4.43  2.140  16.70   0   1     5     2\n",
       "16  14.7    8  440.0  230  3.23  5.345  17.42   0   0     3     4\n",
       "27  30.4    4   95.1  113  3.77  1.513  16.90   1   1     5     2\n",
       "9   19.2    6  167.6  123  3.92  3.440  18.30   1   0     4     4\n",
       "29  19.7    6  145.0  175  3.62  2.770  15.50   0   1     5     6\n",
       "22  15.2    8  304.0  150  3.15  3.435  17.30   0   0     3     2\n",
       "2   22.8    4  108.0   93  3.85  2.320  18.61   1   1     4     1\n",
       "27  30.4    4   95.1  113  3.77  1.513  16.90   1   1     5     2\n",
       "12  17.3    8  275.8  180  3.07  3.730  17.60   0   0     3     3"
      ]
     },
     "execution_count": 257,
     "metadata": {},
     "output_type": "execute_result"
    }
   ],
   "source": [
    " mtcars.sample(len(mtcars),replace=True,random_state=100)"
   ]
  },
  {
   "cell_type": "markdown",
   "metadata": {},
   "source": [
    "Here is an easier way to see what gets duplicated as part of this process. You can see that the following rows get duplicated. This is not to be feared because this might well better reflect the larger population of cars. It might be of more concern as to who to determine which rows of the mtcars data frame did not get sampled. That's not hard to do and in face it's those rows that we will use to create the testing data set. "
   ]
  },
  {
   "cell_type": "code",
   "execution_count": 258,
   "metadata": {},
   "outputs": [
    {
     "data": {
      "text/html": [
       "<div>\n",
       "<style scoped>\n",
       "    .dataframe tbody tr th:only-of-type {\n",
       "        vertical-align: middle;\n",
       "    }\n",
       "\n",
       "    .dataframe tbody tr th {\n",
       "        vertical-align: top;\n",
       "    }\n",
       "\n",
       "    .dataframe thead th {\n",
       "        text-align: right;\n",
       "    }\n",
       "</style>\n",
       "<table border=\"1\" class=\"dataframe\">\n",
       "  <thead>\n",
       "    <tr style=\"text-align: right;\">\n",
       "      <th></th>\n",
       "      <th>mpg</th>\n",
       "      <th>cyl</th>\n",
       "      <th>disp</th>\n",
       "      <th>hp</th>\n",
       "      <th>drat</th>\n",
       "      <th>wt</th>\n",
       "      <th>qsec</th>\n",
       "      <th>vs</th>\n",
       "      <th>am</th>\n",
       "      <th>gear</th>\n",
       "      <th>carb</th>\n",
       "      <th>is_duplicate</th>\n",
       "    </tr>\n",
       "  </thead>\n",
       "  <tbody>\n",
       "    <tr>\n",
       "      <th>2</th>\n",
       "      <td>22.8</td>\n",
       "      <td>4</td>\n",
       "      <td>108.0</td>\n",
       "      <td>93</td>\n",
       "      <td>3.85</td>\n",
       "      <td>2.320</td>\n",
       "      <td>18.61</td>\n",
       "      <td>1</td>\n",
       "      <td>1</td>\n",
       "      <td>4</td>\n",
       "      <td>1</td>\n",
       "      <td>True</td>\n",
       "    </tr>\n",
       "    <tr>\n",
       "      <th>2</th>\n",
       "      <td>22.8</td>\n",
       "      <td>4</td>\n",
       "      <td>108.0</td>\n",
       "      <td>93</td>\n",
       "      <td>3.85</td>\n",
       "      <td>2.320</td>\n",
       "      <td>18.61</td>\n",
       "      <td>1</td>\n",
       "      <td>1</td>\n",
       "      <td>4</td>\n",
       "      <td>1</td>\n",
       "      <td>True</td>\n",
       "    </tr>\n",
       "    <tr>\n",
       "      <th>2</th>\n",
       "      <td>22.8</td>\n",
       "      <td>4</td>\n",
       "      <td>108.0</td>\n",
       "      <td>93</td>\n",
       "      <td>3.85</td>\n",
       "      <td>2.320</td>\n",
       "      <td>18.61</td>\n",
       "      <td>1</td>\n",
       "      <td>1</td>\n",
       "      <td>4</td>\n",
       "      <td>1</td>\n",
       "      <td>True</td>\n",
       "    </tr>\n",
       "    <tr>\n",
       "      <th>16</th>\n",
       "      <td>14.7</td>\n",
       "      <td>8</td>\n",
       "      <td>440.0</td>\n",
       "      <td>230</td>\n",
       "      <td>3.23</td>\n",
       "      <td>5.345</td>\n",
       "      <td>17.42</td>\n",
       "      <td>0</td>\n",
       "      <td>0</td>\n",
       "      <td>3</td>\n",
       "      <td>4</td>\n",
       "      <td>True</td>\n",
       "    </tr>\n",
       "    <tr>\n",
       "      <th>24</th>\n",
       "      <td>19.2</td>\n",
       "      <td>8</td>\n",
       "      <td>400.0</td>\n",
       "      <td>175</td>\n",
       "      <td>3.08</td>\n",
       "      <td>3.845</td>\n",
       "      <td>17.05</td>\n",
       "      <td>0</td>\n",
       "      <td>0</td>\n",
       "      <td>3</td>\n",
       "      <td>2</td>\n",
       "      <td>True</td>\n",
       "    </tr>\n",
       "    <tr>\n",
       "      <th>15</th>\n",
       "      <td>10.4</td>\n",
       "      <td>8</td>\n",
       "      <td>460.0</td>\n",
       "      <td>215</td>\n",
       "      <td>3.00</td>\n",
       "      <td>5.424</td>\n",
       "      <td>17.82</td>\n",
       "      <td>0</td>\n",
       "      <td>0</td>\n",
       "      <td>3</td>\n",
       "      <td>4</td>\n",
       "      <td>True</td>\n",
       "    </tr>\n",
       "    <tr>\n",
       "      <th>16</th>\n",
       "      <td>14.7</td>\n",
       "      <td>8</td>\n",
       "      <td>440.0</td>\n",
       "      <td>230</td>\n",
       "      <td>3.23</td>\n",
       "      <td>5.345</td>\n",
       "      <td>17.42</td>\n",
       "      <td>0</td>\n",
       "      <td>0</td>\n",
       "      <td>3</td>\n",
       "      <td>4</td>\n",
       "      <td>True</td>\n",
       "    </tr>\n",
       "    <tr>\n",
       "      <th>2</th>\n",
       "      <td>22.8</td>\n",
       "      <td>4</td>\n",
       "      <td>108.0</td>\n",
       "      <td>93</td>\n",
       "      <td>3.85</td>\n",
       "      <td>2.320</td>\n",
       "      <td>18.61</td>\n",
       "      <td>1</td>\n",
       "      <td>1</td>\n",
       "      <td>4</td>\n",
       "      <td>1</td>\n",
       "      <td>True</td>\n",
       "    </tr>\n",
       "    <tr>\n",
       "      <th>27</th>\n",
       "      <td>30.4</td>\n",
       "      <td>4</td>\n",
       "      <td>95.1</td>\n",
       "      <td>113</td>\n",
       "      <td>3.77</td>\n",
       "      <td>1.513</td>\n",
       "      <td>16.90</td>\n",
       "      <td>1</td>\n",
       "      <td>1</td>\n",
       "      <td>5</td>\n",
       "      <td>2</td>\n",
       "      <td>True</td>\n",
       "    </tr>\n",
       "  </tbody>\n",
       "</table>\n",
       "</div>"
      ],
      "text/plain": [
       "     mpg  cyl   disp   hp  drat     wt   qsec  vs  am  gear  carb  \\\n",
       "2   22.8    4  108.0   93  3.85  2.320  18.61   1   1     4     1   \n",
       "2   22.8    4  108.0   93  3.85  2.320  18.61   1   1     4     1   \n",
       "2   22.8    4  108.0   93  3.85  2.320  18.61   1   1     4     1   \n",
       "16  14.7    8  440.0  230  3.23  5.345  17.42   0   0     3     4   \n",
       "24  19.2    8  400.0  175  3.08  3.845  17.05   0   0     3     2   \n",
       "15  10.4    8  460.0  215  3.00  5.424  17.82   0   0     3     4   \n",
       "16  14.7    8  440.0  230  3.23  5.345  17.42   0   0     3     4   \n",
       "2   22.8    4  108.0   93  3.85  2.320  18.61   1   1     4     1   \n",
       "27  30.4    4   95.1  113  3.77  1.513  16.90   1   1     5     2   \n",
       "\n",
       "    is_duplicate  \n",
       "2           True  \n",
       "2           True  \n",
       "2           True  \n",
       "16          True  \n",
       "24          True  \n",
       "15          True  \n",
       "16          True  \n",
       "2           True  \n",
       "27          True  "
      ]
     },
     "execution_count": 258,
     "metadata": {},
     "output_type": "execute_result"
    }
   ],
   "source": [
    "temp = mtcars.sample(len(mtcars),replace=True,random_state=100)\n",
    "temp[\"is_duplicate\"] = temp.duplicated()\n",
    "temp[temp.is_duplicate]"
   ]
  },
  {
   "cell_type": "code",
   "execution_count": 259,
   "metadata": {},
   "outputs": [
    {
     "data": {
      "text/plain": [
       "is_duplicate\n",
       "False    23\n",
       "True      9\n",
       "dtype: int64"
      ]
     },
     "execution_count": 259,
     "metadata": {},
     "output_type": "execute_result"
    }
   ],
   "source": [
    "temp.groupby('is_duplicate').size()"
   ]
  },
  {
   "cell_type": "markdown",
   "metadata": {},
   "source": [
    "So keep in mind that all we are doing is changing ONLY the way in which we sample the data. We are still doing the cross fold validation. Chaning the function is easy to do."
   ]
  },
  {
   "cell_type": "code",
   "execution_count": 260,
   "metadata": {},
   "outputs": [],
   "source": [
    "def cross_validator(group_size=4,df=mtcars,repeat=1,boot=True): \n",
    "\n",
    "    # Setup a list to capture the rmse for training and testing\n",
    "    rmse_list = []\n",
    "\n",
    "    for jj in range(0,repeat):\n",
    "        \n",
    "        # If boot \n",
    "        if (boot):\n",
    "            tempdf = df.sample(len(df),replace=True)\n",
    "        else:\n",
    "            tempdf = df.sample(len(df),replace=False)\n",
    "\n",
    "        # Split the data frame intro groups the size of \"group_size\"\n",
    "        lst = [tempdf.iloc[i:i+group_size] for i in range(0,len(tempdf)-group_size+1,group_size)]\n",
    "\n",
    "        # Loop through the split dataframe\n",
    "        for ii in range(0,len(lst)):\n",
    "            test = lst[0]\n",
    "            train = pd.concat(lst[1:len(lst)])\n",
    "            lst.append(lst[0])\n",
    "            del lst[0]\n",
    "\n",
    "            # Do regression and figure out rmse for training and test\n",
    "            result = sm.OLS(train.mpg,sm.add_constant(train.wt)).fit()\n",
    "            train_rmse = rmse(train.mpg,result.predict(sm.add_constant(train.wt)))\n",
    "            test_rmse  = rmse(test.mpg,result.predict(sm.add_constant(test.wt)))\n",
    "\n",
    "            # append the data into the list \n",
    "            rmse_list.append([train_rmse,test_rmse,jj+1])\n",
    "            \n",
    "            if (boot):\n",
    "                title = \"RMSE for \" + str(round(len(df)/group_size,2)) + \" folds and \" + str(repeat) + \" repeats - bootstrapped\"\n",
    "            else:\n",
    "                title = \"RMSE for \" + str(round(len(df)/group_size,2)) + \" folds and \" + str(repeat) + \" repeats\"\n",
    "\n",
    "    return([title,pd.DataFrame(rmse_list,columns=['train','test','repeat'])])\n"
   ]
  },
  {
   "cell_type": "code",
   "execution_count": 261,
   "metadata": {},
   "outputs": [
    {
     "data": {
      "text/html": [
       "<div>\n",
       "<style scoped>\n",
       "    .dataframe tbody tr th:only-of-type {\n",
       "        vertical-align: middle;\n",
       "    }\n",
       "\n",
       "    .dataframe tbody tr th {\n",
       "        vertical-align: top;\n",
       "    }\n",
       "\n",
       "    .dataframe thead th {\n",
       "        text-align: right;\n",
       "    }\n",
       "</style>\n",
       "<table border=\"1\" class=\"dataframe\">\n",
       "  <thead>\n",
       "    <tr style=\"text-align: right;\">\n",
       "      <th></th>\n",
       "      <th>train</th>\n",
       "      <th>test</th>\n",
       "      <th>repeat</th>\n",
       "    </tr>\n",
       "  </thead>\n",
       "  <tbody>\n",
       "    <tr>\n",
       "      <th>0</th>\n",
       "      <td>3.086</td>\n",
       "      <td>2.677</td>\n",
       "      <td>1</td>\n",
       "    </tr>\n",
       "    <tr>\n",
       "      <th>1</th>\n",
       "      <td>3.081</td>\n",
       "      <td>2.714</td>\n",
       "      <td>1</td>\n",
       "    </tr>\n",
       "    <tr>\n",
       "      <th>2</th>\n",
       "      <td>3.154</td>\n",
       "      <td>2.113</td>\n",
       "      <td>1</td>\n",
       "    </tr>\n",
       "    <tr>\n",
       "      <th>3</th>\n",
       "      <td>3.127</td>\n",
       "      <td>2.470</td>\n",
       "      <td>1</td>\n",
       "    </tr>\n",
       "    <tr>\n",
       "      <th>4</th>\n",
       "      <td>2.910</td>\n",
       "      <td>3.848</td>\n",
       "      <td>1</td>\n",
       "    </tr>\n",
       "    <tr>\n",
       "      <th>...</th>\n",
       "      <td>...</td>\n",
       "      <td>...</td>\n",
       "      <td>...</td>\n",
       "    </tr>\n",
       "    <tr>\n",
       "      <th>75</th>\n",
       "      <td>2.865</td>\n",
       "      <td>2.201</td>\n",
       "      <td>10</td>\n",
       "    </tr>\n",
       "    <tr>\n",
       "      <th>76</th>\n",
       "      <td>2.389</td>\n",
       "      <td>4.825</td>\n",
       "      <td>10</td>\n",
       "    </tr>\n",
       "    <tr>\n",
       "      <th>77</th>\n",
       "      <td>2.903</td>\n",
       "      <td>1.593</td>\n",
       "      <td>10</td>\n",
       "    </tr>\n",
       "    <tr>\n",
       "      <th>78</th>\n",
       "      <td>2.818</td>\n",
       "      <td>2.465</td>\n",
       "      <td>10</td>\n",
       "    </tr>\n",
       "    <tr>\n",
       "      <th>79</th>\n",
       "      <td>2.742</td>\n",
       "      <td>3.126</td>\n",
       "      <td>10</td>\n",
       "    </tr>\n",
       "  </tbody>\n",
       "</table>\n",
       "<p>80 rows × 3 columns</p>\n",
       "</div>"
      ],
      "text/plain": [
       "    train   test  repeat\n",
       "0   3.086  2.677       1\n",
       "1   3.081  2.714       1\n",
       "2   3.154  2.113       1\n",
       "3   3.127  2.470       1\n",
       "4   2.910  3.848       1\n",
       "..    ...    ...     ...\n",
       "75  2.865  2.201      10\n",
       "76  2.389  4.825      10\n",
       "77  2.903  1.593      10\n",
       "78  2.818  2.465      10\n",
       "79  2.742  3.126      10\n",
       "\n",
       "[80 rows x 3 columns]"
      ]
     },
     "execution_count": 261,
     "metadata": {},
     "output_type": "execute_result"
    }
   ],
   "source": [
    "title, error_frame = cross_validator(group_size=4,repeat=10,boot=True)\n",
    "error_frame"
   ]
  },
  {
   "cell_type": "code",
   "execution_count": 262,
   "metadata": {},
   "outputs": [
    {
     "data": {
      "text/html": [
       "<div>\n",
       "<style scoped>\n",
       "    .dataframe tbody tr th:only-of-type {\n",
       "        vertical-align: middle;\n",
       "    }\n",
       "\n",
       "    .dataframe tbody tr th {\n",
       "        vertical-align: top;\n",
       "    }\n",
       "\n",
       "    .dataframe thead th {\n",
       "        text-align: right;\n",
       "    }\n",
       "</style>\n",
       "<table border=\"1\" class=\"dataframe\">\n",
       "  <thead>\n",
       "    <tr style=\"text-align: right;\">\n",
       "      <th></th>\n",
       "      <th>train</th>\n",
       "      <th>test</th>\n",
       "    </tr>\n",
       "  </thead>\n",
       "  <tbody>\n",
       "    <tr>\n",
       "      <th>count</th>\n",
       "      <td>80.000000</td>\n",
       "      <td>80.000000</td>\n",
       "    </tr>\n",
       "    <tr>\n",
       "      <th>mean</th>\n",
       "      <td>2.770213</td>\n",
       "      <td>2.849125</td>\n",
       "    </tr>\n",
       "    <tr>\n",
       "      <th>std</th>\n",
       "      <td>0.279896</td>\n",
       "      <td>1.023408</td>\n",
       "    </tr>\n",
       "    <tr>\n",
       "      <th>min</th>\n",
       "      <td>1.783000</td>\n",
       "      <td>1.082000</td>\n",
       "    </tr>\n",
       "    <tr>\n",
       "      <th>25%</th>\n",
       "      <td>2.582250</td>\n",
       "      <td>2.201000</td>\n",
       "    </tr>\n",
       "    <tr>\n",
       "      <th>50%</th>\n",
       "      <td>2.811000</td>\n",
       "      <td>2.688500</td>\n",
       "    </tr>\n",
       "    <tr>\n",
       "      <th>75%</th>\n",
       "      <td>2.977000</td>\n",
       "      <td>3.351750</td>\n",
       "    </tr>\n",
       "    <tr>\n",
       "      <th>max</th>\n",
       "      <td>3.234000</td>\n",
       "      <td>6.052000</td>\n",
       "    </tr>\n",
       "  </tbody>\n",
       "</table>\n",
       "</div>"
      ],
      "text/plain": [
       "           train       test\n",
       "count  80.000000  80.000000\n",
       "mean    2.770213   2.849125\n",
       "std     0.279896   1.023408\n",
       "min     1.783000   1.082000\n",
       "25%     2.582250   2.201000\n",
       "50%     2.811000   2.688500\n",
       "75%     2.977000   3.351750\n",
       "max     3.234000   6.052000"
      ]
     },
     "execution_count": 262,
     "metadata": {},
     "output_type": "execute_result"
    }
   ],
   "source": [
    "error_frame[['train','test']].describe()"
   ]
  },
  {
   "cell_type": "code",
   "execution_count": 264,
   "metadata": {},
   "outputs": [
    {
     "data": {
      "text/plain": [
       "Text(0.5, 1.0, 'RMSE for 8.0 folds and 10 repeats - bootstrapped')"
      ]
     },
     "execution_count": 264,
     "metadata": {},
     "output_type": "execute_result"
    },
    {
     "data": {
      "image/png": "[encoded data removed]",
      "text/plain": [
       "<Figure size 900x500 with 1 Axes>"
      ]
     },
     "metadata": {},
     "output_type": "display_data"
    }
   ],
   "source": [
    "import matplotlib.pyplot as plt\n",
    "error_frame.boxplot(column=['test'],by=\"repeat\",figsize=(9,5)) \n",
    "plt.title(title)"
   ]
  },
  {
   "cell_type": "markdown",
   "metadata": {},
   "source": [
    "If we wanted to look at the distribtuion of Test RMSE across all booststrapped repeats "
   ]
  },
  {
   "cell_type": "code",
   "execution_count": 265,
   "metadata": {},
   "outputs": [
    {
     "data": {
      "text/plain": [
       "Text(0.5, 1.0, 'Test RMSE for 8.0 folds and 10 repeats - bootstrapped')"
      ]
     },
     "execution_count": 265,
     "metadata": {},
     "output_type": "execute_result"
    },
    {
     "data": {
      "image/png": "[encoded data removed]",
      "text/plain": [
       "<Figure size 900x500 with 1 Axes>"
      ]
     },
     "metadata": {},
     "output_type": "display_data"
    }
   ],
   "source": [
    "error_frame.boxplot(column=['test'],figsize=(9,5)) \n",
    "plt.title(\"Test \" + title)"
   ]
  },
  {
   "cell_type": "markdown",
   "metadata": {},
   "source": [
    "How does this compare to a non-bootstrapped cross fold vslidation ?"
   ]
  },
  {
   "cell_type": "code",
   "execution_count": 266,
   "metadata": {},
   "outputs": [
    {
     "data": {
      "text/html": [
       "<div>\n",
       "<style scoped>\n",
       "    .dataframe tbody tr th:only-of-type {\n",
       "        vertical-align: middle;\n",
       "    }\n",
       "\n",
       "    .dataframe tbody tr th {\n",
       "        vertical-align: top;\n",
       "    }\n",
       "\n",
       "    .dataframe thead th {\n",
       "        text-align: right;\n",
       "    }\n",
       "</style>\n",
       "<table border=\"1\" class=\"dataframe\">\n",
       "  <thead>\n",
       "    <tr style=\"text-align: right;\">\n",
       "      <th></th>\n",
       "      <th>train</th>\n",
       "      <th>test</th>\n",
       "      <th>repeat</th>\n",
       "    </tr>\n",
       "  </thead>\n",
       "  <tbody>\n",
       "    <tr>\n",
       "      <th>0</th>\n",
       "      <td>2.994</td>\n",
       "      <td>2.632</td>\n",
       "      <td>1</td>\n",
       "    </tr>\n",
       "    <tr>\n",
       "      <th>1</th>\n",
       "      <td>2.576</td>\n",
       "      <td>5.090</td>\n",
       "      <td>1</td>\n",
       "    </tr>\n",
       "    <tr>\n",
       "      <th>2</th>\n",
       "      <td>3.049</td>\n",
       "      <td>2.230</td>\n",
       "      <td>1</td>\n",
       "    </tr>\n",
       "    <tr>\n",
       "      <th>3</th>\n",
       "      <td>2.980</td>\n",
       "      <td>2.848</td>\n",
       "      <td>1</td>\n",
       "    </tr>\n",
       "    <tr>\n",
       "      <th>4</th>\n",
       "      <td>2.925</td>\n",
       "      <td>3.119</td>\n",
       "      <td>1</td>\n",
       "    </tr>\n",
       "    <tr>\n",
       "      <th>...</th>\n",
       "      <td>...</td>\n",
       "      <td>...</td>\n",
       "      <td>...</td>\n",
       "    </tr>\n",
       "    <tr>\n",
       "      <th>75</th>\n",
       "      <td>3.125</td>\n",
       "      <td>1.121</td>\n",
       "      <td>10</td>\n",
       "    </tr>\n",
       "    <tr>\n",
       "      <th>76</th>\n",
       "      <td>3.065</td>\n",
       "      <td>1.981</td>\n",
       "      <td>10</td>\n",
       "    </tr>\n",
       "    <tr>\n",
       "      <th>77</th>\n",
       "      <td>2.995</td>\n",
       "      <td>2.672</td>\n",
       "      <td>10</td>\n",
       "    </tr>\n",
       "    <tr>\n",
       "      <th>78</th>\n",
       "      <td>3.039</td>\n",
       "      <td>2.278</td>\n",
       "      <td>10</td>\n",
       "    </tr>\n",
       "    <tr>\n",
       "      <th>79</th>\n",
       "      <td>2.804</td>\n",
       "      <td>4.079</td>\n",
       "      <td>10</td>\n",
       "    </tr>\n",
       "  </tbody>\n",
       "</table>\n",
       "<p>80 rows × 3 columns</p>\n",
       "</div>"
      ],
      "text/plain": [
       "    train   test  repeat\n",
       "0   2.994  2.632       1\n",
       "1   2.576  5.090       1\n",
       "2   3.049  2.230       1\n",
       "3   2.980  2.848       1\n",
       "4   2.925  3.119       1\n",
       "..    ...    ...     ...\n",
       "75  3.125  1.121      10\n",
       "76  3.065  1.981      10\n",
       "77  2.995  2.672      10\n",
       "78  3.039  2.278      10\n",
       "79  2.804  4.079      10\n",
       "\n",
       "[80 rows x 3 columns]"
      ]
     },
     "execution_count": 266,
     "metadata": {},
     "output_type": "execute_result"
    }
   ],
   "source": [
    "title, error_frame = cross_validator(group_size=4,repeat=10,boot=False)\n",
    "error_frame"
   ]
  },
  {
   "cell_type": "code",
   "execution_count": 187,
   "metadata": {},
   "outputs": [
    {
     "data": {
      "text/plain": [
       "Text(0.5, 1.0, 'Test RMSE for 8.0 folds and 10 repeats')"
      ]
     },
     "execution_count": 187,
     "metadata": {},
     "output_type": "execute_result"
    },
    {
     "data": {
      "image/png": "[encoded data removed]",
      "text/plain": [
       "<Figure size 900x500 with 1 Axes>"
      ]
     },
     "metadata": {},
     "output_type": "display_data"
    }
   ],
   "source": [
    "error_frame.boxplot(column=['test'],figsize=(9,5)) \n",
    "plt.title(\"Test \" + title)"
   ]
  },
  {
   "cell_type": "markdown",
   "metadata": {},
   "source": [
    "We've done a lot here including last week. We've implemented our own methods for creating training and test data as well as ways to assess the training and test error. We could continue in this direction although as you will soon discover, there are easier ways to do this which will allow us to focus on building better models as opposed to segmenting data. "
   ]
  },
  {
   "cell_type": "code",
   "execution_count": null,
   "metadata": {},
   "outputs": [],
   "source": []
  }
 ],
 "metadata": {
  "kernelspec": {
   "display_name": "Python 3 (ipykernel)",
   "language": "python",
   "name": "python3"
  },
  "language_info": {
   "codemirror_mode": {
    "name": "ipython",
    "version": 3
   },
   "file_extension": ".py",
   "mimetype": "text/x-python",
   "name": "python",
   "nbconvert_exporter": "python",
   "pygments_lexer": "ipython3",
   "version": "3.11.7"
  }
 },
 "nbformat": 4,
 "nbformat_minor": 4
}
